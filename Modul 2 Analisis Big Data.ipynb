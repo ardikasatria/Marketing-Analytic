{
 "cells": [
  {
   "attachments": {},
   "cell_type": "markdown",
   "metadata": {},
   "source": [
    "# Modul 2 Praktikum Analisis Big Data\n",
    "## Prediksi Saham Menggunakan Twitter Sentiment Analysis"
   ]
  },
  {
   "attachments": {},
   "cell_type": "markdown",
   "metadata": {},
   "source": [
    "**Program Studi Sains Data**\n",
    "\n",
    "**Institut Teknologi Sumatera**"
   ]
  },
  {
   "attachments": {},
   "cell_type": "markdown",
   "metadata": {},
   "source": [
    "Tujuan Praktikum:\n",
    "\n",
    "1. Memahami bagaimana membangun model prediksi dengan text analisis\n",
    "\n",
    "2. Menerapkan web scrapping untuk mengakuisisi data text analisis\n",
    "\n",
    "3. Memahami bagaimana model Twitter Analisis dengan sentiment analisis"
   ]
  },
  {
   "attachments": {},
   "cell_type": "markdown",
   "metadata": {},
   "source": [
    "# Pre Test\n",
    "\n",
    "1. Apa yang dimaksud dengan Text Analisis?\n",
    "2. Bagaimana menerapkan text analisis dengan prediksi analisis?\n",
    "3. Apa yang dimaksud dengan sentiment analisis?\n",
    "4. Berikan contoh bagaimana menerapkan prediksi melalui sentiment analisis (buat dalam bagan atau flowchart)"
   ]
  },
  {
   "attachments": {},
   "cell_type": "markdown",
   "metadata": {},
   "source": [
    "#### Mengimpor library yang diperlukan"
   ]
  },
  {
   "cell_type": "code",
   "execution_count": 1,
   "metadata": {
    "ExecuteTime": {
     "end_time": "2021-09-22T09:38:08.972017Z",
     "start_time": "2021-09-22T09:38:08.960019Z"
    }
   },
   "outputs": [],
   "source": [
    "import numpy as np\n",
    "import pandas as pd\n",
    "from nltk.classify import NaiveBayesClassifier\n",
    "from nltk.corpus import subjectivity\n",
    "from nltk.sentiment import SentimentAnalyzer\n",
    "from nltk.sentiment.util import *\n",
    "import matplotlib.pyplot as mlpt"
   ]
  },
  {
   "attachments": {},
   "cell_type": "markdown",
   "metadata": {},
   "source": [
    "#### Mengimpor library yang digunakan untuk mengambil data dari twitter"
   ]
  },
  {
   "cell_type": "code",
   "execution_count": 2,
   "metadata": {
    "ExecuteTime": {
     "end_time": "2021-09-22T09:38:09.389331Z",
     "start_time": "2021-09-22T09:38:09.385373Z"
    }
   },
   "outputs": [],
   "source": [
    "import tweepy\n",
    "import csv\n",
    "import pandas as pd\n",
    "import random\n",
    "import numpy as np\n",
    "import pandas as pd"
   ]
  },
  {
   "attachments": {},
   "cell_type": "markdown",
   "metadata": {},
   "source": [
    "#### pengaturan consumer key dan access token"
   ]
  },
  {
   "cell_type": "code",
   "execution_count": 3,
   "metadata": {
    "ExecuteTime": {
     "end_time": "2021-09-22T09:38:09.824910Z",
     "start_time": "2021-09-22T09:38:09.818945Z"
    }
   },
   "outputs": [],
   "source": [
    "consumer_key    = '3jmA1BqasLHfItBXj3KnAIGFB'\n",
    "consumer_secret = 'imyEeVTctFZuK62QHmL1I0AUAMudg5HKJDfkx0oR7oFbFinbvA'\n",
    "\n",
    "access_token  = '265857263-pF1DRxgIcxUbxEEFtLwLODPzD3aMl6d4zOKlMnme'\n",
    "access_token_secret = 'uUFoOOGeNJfOYD3atlcmPtaxxniXxQzAU4ESJLopA1lbC'\n",
    "\n",
    "auth = tweepy.OAuthHandler(consumer_key, consumer_secret)\n",
    "auth.set_access_token(access_token, access_token_secret)\n",
    "api = tweepy.API(auth,wait_on_rate_limit=True)"
   ]
  },
  {
   "attachments": {},
   "cell_type": "markdown",
   "metadata": {},
   "source": [
    "#### Fetching tweets for United Airlines in extended mode (artinya seluruh tweet akan di scrapping dan bukan hanya beberapa kata + tautan)"
   ]
  },
  {
   "cell_type": "code",
   "execution_count": 20,
   "metadata": {
    "ExecuteTime": {
     "end_time": "2021-09-22T09:38:18.943491Z",
     "start_time": "2021-09-22T09:38:10.988985Z"
    }
   },
   "outputs": [
    {
     "name": "stderr",
     "output_type": "stream",
     "text": [
      "Unexpected parameter: since\n",
      "Unexpected parameter: since\n",
      "Unexpected parameter: since\n",
      "Unexpected parameter: since\n",
      "Unexpected parameter: since\n",
      "Unexpected parameter: since\n"
     ]
    }
   ],
   "source": [
    "fetch_tweets=tweepy.Cursor(api.search_tweets, q=\"#unitedAIRLINES\",count=365, lang =\"en\",since=\"2022-01-01\", tweet_mode=\"extended\").items()\n",
    "data=pd.DataFrame(data=[[tweet_info.created_at.date(),tweet_info.full_text]for tweet_info in fetch_tweets],columns=['Date','Tweets'])"
   ]
  },
  {
   "cell_type": "code",
   "execution_count": 21,
   "metadata": {
    "ExecuteTime": {
     "end_time": "2021-09-22T09:38:19.008323Z",
     "start_time": "2021-09-22T09:38:14.144Z"
    }
   },
   "outputs": [
    {
     "data": {
      "text/html": [
       "<div>\n",
       "<style scoped>\n",
       "    .dataframe tbody tr th:only-of-type {\n",
       "        vertical-align: middle;\n",
       "    }\n",
       "\n",
       "    .dataframe tbody tr th {\n",
       "        vertical-align: top;\n",
       "    }\n",
       "\n",
       "    .dataframe thead th {\n",
       "        text-align: right;\n",
       "    }\n",
       "</style>\n",
       "<table border=\"1\" class=\"dataframe\">\n",
       "  <thead>\n",
       "    <tr style=\"text-align: right;\">\n",
       "      <th></th>\n",
       "      <th>Date</th>\n",
       "      <th>Tweets</th>\n",
       "    </tr>\n",
       "  </thead>\n",
       "  <tbody>\n",
       "    <tr>\n",
       "      <th>0</th>\n",
       "      <td>2023-03-07</td>\n",
       "      <td>RT @CyndiCaBu: Please support @MISS_Elasmo  in...</td>\n",
       "    </tr>\n",
       "    <tr>\n",
       "      <th>1</th>\n",
       "      <td>2023-03-07</td>\n",
       "      <td>RT @CyndiCaBu: Please support @MISS_Elasmo  in...</td>\n",
       "    </tr>\n",
       "    <tr>\n",
       "      <th>2</th>\n",
       "      <td>2023-03-07</td>\n",
       "      <td>Caught on video: A #UnitedAirlines passenger a...</td>\n",
       "    </tr>\n",
       "    <tr>\n",
       "      <th>3</th>\n",
       "      <td>2023-03-07</td>\n",
       "      <td>RT @diecastryan: A bucket list shot checked of...</td>\n",
       "    </tr>\n",
       "    <tr>\n",
       "      <th>4</th>\n",
       "      <td>2023-03-07</td>\n",
       "      <td>RT @diecastryan: A bucket list shot checked of...</td>\n",
       "    </tr>\n",
       "    <tr>\n",
       "      <th>...</th>\n",
       "      <td>...</td>\n",
       "      <td>...</td>\n",
       "    </tr>\n",
       "    <tr>\n",
       "      <th>492</th>\n",
       "      <td>2023-02-25</td>\n",
       "      <td>Did you fly with United Airlines? Were you on ...</td>\n",
       "    </tr>\n",
       "    <tr>\n",
       "      <th>493</th>\n",
       "      <td>2023-02-25</td>\n",
       "      <td>ICAO: #A1D18F\\nFlt: #UAL927 #UnitedAirlines #F...</td>\n",
       "    </tr>\n",
       "    <tr>\n",
       "      <th>494</th>\n",
       "      <td>2023-02-25</td>\n",
       "      <td>Our pilots, technicians, and employees look fa...</td>\n",
       "    </tr>\n",
       "    <tr>\n",
       "      <th>495</th>\n",
       "      <td>2023-02-25</td>\n",
       "      <td>RT @MdSaifu57846909: Contact me to get your dr...</td>\n",
       "    </tr>\n",
       "    <tr>\n",
       "      <th>496</th>\n",
       "      <td>2023-02-25</td>\n",
       "      <td>You can contact this +1(800)253-0687 Number  i...</td>\n",
       "    </tr>\n",
       "  </tbody>\n",
       "</table>\n",
       "<p>497 rows × 2 columns</p>\n",
       "</div>"
      ],
      "text/plain": [
       "           Date                                             Tweets\n",
       "0    2023-03-07  RT @CyndiCaBu: Please support @MISS_Elasmo  in...\n",
       "1    2023-03-07  RT @CyndiCaBu: Please support @MISS_Elasmo  in...\n",
       "2    2023-03-07  Caught on video: A #UnitedAirlines passenger a...\n",
       "3    2023-03-07  RT @diecastryan: A bucket list shot checked of...\n",
       "4    2023-03-07  RT @diecastryan: A bucket list shot checked of...\n",
       "..          ...                                                ...\n",
       "492  2023-02-25  Did you fly with United Airlines? Were you on ...\n",
       "493  2023-02-25  ICAO: #A1D18F\\nFlt: #UAL927 #UnitedAirlines #F...\n",
       "494  2023-02-25  Our pilots, technicians, and employees look fa...\n",
       "495  2023-02-25  RT @MdSaifu57846909: Contact me to get your dr...\n",
       "496  2023-02-25  You can contact this +1(800)253-0687 Number  i...\n",
       "\n",
       "[497 rows x 2 columns]"
      ]
     },
     "execution_count": 21,
     "metadata": {},
     "output_type": "execute_result"
    }
   ],
   "source": [
    "data"
   ]
  },
  {
   "attachments": {},
   "cell_type": "markdown",
   "metadata": {},
   "source": [
    "#### Membersihkan special character dari setiap tweets"
   ]
  },
  {
   "cell_type": "code",
   "execution_count": 22,
   "metadata": {
    "ExecuteTime": {
     "end_time": "2021-09-22T09:38:20.001041Z",
     "start_time": "2021-09-22T09:38:19.691867Z"
    }
   },
   "outputs": [],
   "source": [
    "data.to_csv(\"Tweets.csv\")\n",
    "cdata=pd.DataFrame(columns=['Date','Tweets'])\n",
    "total=100\n",
    "index=0\n",
    "for index,row in data.iterrows():\n",
    "    stre=row[\"Tweets\"]\n",
    "    my_new_string = re.sub('[^ a-zA-Z0-9]', '', stre)\n",
    "    temp_df = pd.DataFrame([[data[\"Date\"].iloc[index], \n",
    "                            my_new_string]], columns = ['Date','Tweets'])\n",
    "    cdata = pd.concat([cdata, temp_df], axis = 0).reset_index(drop = True)\n",
    "    # index=index+1\n",
    "#print(cdata.dtypes)"
   ]
  },
  {
   "attachments": {},
   "cell_type": "markdown",
   "metadata": {},
   "source": [
    "#### Menampilkan data dengan tanggal dan tweet, dapat dilihat ada banyak tweet setiap hari nya. Jadi kita akan menyatukan satu per satu nanti."
   ]
  },
  {
   "cell_type": "code",
   "execution_count": 8,
   "metadata": {
    "ExecuteTime": {
     "end_time": "2021-09-22T09:38:20.951711Z",
     "start_time": "2021-09-22T09:38:20.940741Z"
    }
   },
   "outputs": [
    {
     "data": {
      "text/html": [
       "<div>\n",
       "<style scoped>\n",
       "    .dataframe tbody tr th:only-of-type {\n",
       "        vertical-align: middle;\n",
       "    }\n",
       "\n",
       "    .dataframe tbody tr th {\n",
       "        vertical-align: top;\n",
       "    }\n",
       "\n",
       "    .dataframe thead th {\n",
       "        text-align: right;\n",
       "    }\n",
       "</style>\n",
       "<table border=\"1\" class=\"dataframe\">\n",
       "  <thead>\n",
       "    <tr style=\"text-align: right;\">\n",
       "      <th></th>\n",
       "      <th>Date</th>\n",
       "      <th>Tweets</th>\n",
       "    </tr>\n",
       "  </thead>\n",
       "  <tbody>\n",
       "    <tr>\n",
       "      <th>0</th>\n",
       "      <td>2023-03-06</td>\n",
       "      <td>UnitedAirlines Toy Story of Terror 2013 Short ...</td>\n",
       "    </tr>\n",
       "    <tr>\n",
       "      <th>1</th>\n",
       "      <td>2023-03-06</td>\n",
       "      <td>UnitedAirlines Mrs Harris Goes to Paris 2022 L...</td>\n",
       "    </tr>\n",
       "    <tr>\n",
       "      <th>2</th>\n",
       "      <td>2023-03-06</td>\n",
       "      <td>UnitedAirlines uTalk  got to practice basic Fr...</td>\n",
       "    </tr>\n",
       "    <tr>\n",
       "      <th>3</th>\n",
       "      <td>2023-03-06</td>\n",
       "      <td>Didnt know that the Aranet4 Co2 readings went ...</td>\n",
       "    </tr>\n",
       "    <tr>\n",
       "      <th>4</th>\n",
       "      <td>2023-03-06</td>\n",
       "      <td>New Dashboard Allows Travelers to See Which Ai...</td>\n",
       "    </tr>\n",
       "    <tr>\n",
       "      <th>...</th>\n",
       "      <td>...</td>\n",
       "      <td>...</td>\n",
       "    </tr>\n",
       "    <tr>\n",
       "      <th>404</th>\n",
       "      <td>2023-02-24</td>\n",
       "      <td>RT AvSourceNews NEWS  United Airlines flight U...</td>\n",
       "    </tr>\n",
       "    <tr>\n",
       "      <th>405</th>\n",
       "      <td>2023-02-24</td>\n",
       "      <td>Thx Unitedairlines But if U wanna show me appr...</td>\n",
       "    </tr>\n",
       "    <tr>\n",
       "      <th>406</th>\n",
       "      <td>2023-02-24</td>\n",
       "      <td>Captain your career with CommuteAirBuilding yo...</td>\n",
       "    </tr>\n",
       "    <tr>\n",
       "      <th>407</th>\n",
       "      <td>2023-02-24</td>\n",
       "      <td>Dear united    Not really sure but aint someth...</td>\n",
       "    </tr>\n",
       "    <tr>\n",
       "      <th>408</th>\n",
       "      <td>2023-02-24</td>\n",
       "      <td>RT Quak3r8 Thank you unitedAIRLINES for only s...</td>\n",
       "    </tr>\n",
       "  </tbody>\n",
       "</table>\n",
       "<p>409 rows × 2 columns</p>\n",
       "</div>"
      ],
      "text/plain": [
       "           Date                                             Tweets\n",
       "0    2023-03-06  UnitedAirlines Toy Story of Terror 2013 Short ...\n",
       "1    2023-03-06  UnitedAirlines Mrs Harris Goes to Paris 2022 L...\n",
       "2    2023-03-06  UnitedAirlines uTalk  got to practice basic Fr...\n",
       "3    2023-03-06  Didnt know that the Aranet4 Co2 readings went ...\n",
       "4    2023-03-06  New Dashboard Allows Travelers to See Which Ai...\n",
       "..          ...                                                ...\n",
       "404  2023-02-24  RT AvSourceNews NEWS  United Airlines flight U...\n",
       "405  2023-02-24  Thx Unitedairlines But if U wanna show me appr...\n",
       "406  2023-02-24  Captain your career with CommuteAirBuilding yo...\n",
       "407  2023-02-24  Dear united    Not really sure but aint someth...\n",
       "408  2023-02-24  RT Quak3r8 Thank you unitedAIRLINES for only s...\n",
       "\n",
       "[409 rows x 2 columns]"
      ]
     },
     "execution_count": 8,
     "metadata": {},
     "output_type": "execute_result"
    }
   ],
   "source": [
    "cdata"
   ]
  },
  {
   "attachments": {},
   "cell_type": "markdown",
   "metadata": {},
   "source": [
    "#### Membuat dataframe dimana kita akan mengombinasikan di mana kita akan menggabungkan tanggal tweet dan menyimpannya"
   ]
  },
  {
   "cell_type": "code",
   "execution_count": 23,
   "metadata": {
    "ExecuteTime": {
     "end_time": "2021-09-22T09:38:22.094898Z",
     "start_time": "2021-09-22T09:38:22.075919Z"
    }
   },
   "outputs": [],
   "source": [
    "ccdata=pd.DataFrame(columns=['Date','Tweets'])"
   ]
  },
  {
   "cell_type": "code",
   "execution_count": 24,
   "metadata": {
    "ExecuteTime": {
     "end_time": "2021-09-22T09:38:22.530962Z",
     "start_time": "2021-09-22T09:38:22.491788Z"
    }
   },
   "outputs": [],
   "source": [
    "indx=0\n",
    "get_tweet=\"\"\n",
    "for i in range(0,len(cdata)-1):\n",
    "    get_date=cdata.Date.iloc[i]\n",
    "    next_date=cdata.Date.iloc[i+1]\n",
    "    if(str(get_date)==str(next_date)):\n",
    "        get_tweet=get_tweet+cdata.Tweets.iloc[i]+\" \"\n",
    "    if(str(get_date)!=str(next_date)):\n",
    "        temp_df = pd.DataFrame([[get_date, \n",
    "                                get_tweet]], columns = ['Date','Tweets'])\n",
    "        ccdata = pd.concat([ccdata, temp_df], axis = 0).reset_index(drop = True)\n",
    "        get_tweet=\" \""
   ]
  },
  {
   "attachments": {},
   "cell_type": "markdown",
   "metadata": {},
   "source": [
    "#### Semua tweet telah digabungkan sesuai tanggalnya."
   ]
  },
  {
   "cell_type": "code",
   "execution_count": 25,
   "metadata": {
    "ExecuteTime": {
     "end_time": "2021-09-22T09:38:23.249425Z",
     "start_time": "2021-09-22T09:38:23.239458Z"
    }
   },
   "outputs": [
    {
     "data": {
      "text/html": [
       "<div>\n",
       "<style scoped>\n",
       "    .dataframe tbody tr th:only-of-type {\n",
       "        vertical-align: middle;\n",
       "    }\n",
       "\n",
       "    .dataframe tbody tr th {\n",
       "        vertical-align: top;\n",
       "    }\n",
       "\n",
       "    .dataframe thead th {\n",
       "        text-align: right;\n",
       "    }\n",
       "</style>\n",
       "<table border=\"1\" class=\"dataframe\">\n",
       "  <thead>\n",
       "    <tr style=\"text-align: right;\">\n",
       "      <th></th>\n",
       "      <th>Date</th>\n",
       "      <th>Tweets</th>\n",
       "    </tr>\n",
       "  </thead>\n",
       "  <tbody>\n",
       "    <tr>\n",
       "      <th>0</th>\n",
       "      <td>2023-03-07</td>\n",
       "      <td>RT CyndiCaBu Please support MISSElasmo  in the...</td>\n",
       "    </tr>\n",
       "    <tr>\n",
       "      <th>1</th>\n",
       "      <td>2023-03-06</td>\n",
       "      <td>Me flight is delayed Mom oh wow is the weathe...</td>\n",
       "    </tr>\n",
       "    <tr>\n",
       "      <th>2</th>\n",
       "      <td>2023-03-05</td>\n",
       "      <td>Ugh One of my least favorite aircraft The low...</td>\n",
       "    </tr>\n",
       "    <tr>\n",
       "      <th>3</th>\n",
       "      <td>2023-03-04</td>\n",
       "      <td>Back to the South For a couple days So much n...</td>\n",
       "    </tr>\n",
       "    <tr>\n",
       "      <th>4</th>\n",
       "      <td>2023-03-03</td>\n",
       "      <td>When your Instructor Evaluator Specialists pr...</td>\n",
       "    </tr>\n",
       "    <tr>\n",
       "      <th>5</th>\n",
       "      <td>2023-03-02</td>\n",
       "      <td>RT n194at United Air LinesDouglas DC871 N8094...</td>\n",
       "    </tr>\n",
       "    <tr>\n",
       "      <th>6</th>\n",
       "      <td>2023-03-01</td>\n",
       "      <td>united VirginAustralia The point of equality ...</td>\n",
       "    </tr>\n",
       "    <tr>\n",
       "      <th>7</th>\n",
       "      <td>2023-02-28</td>\n",
       "      <td>united VirginAustralia Just another reason I ...</td>\n",
       "    </tr>\n",
       "    <tr>\n",
       "      <th>8</th>\n",
       "      <td>2023-02-27</td>\n",
       "      <td>Check out United Super DC8 Inaugural Flight 1...</td>\n",
       "    </tr>\n",
       "    <tr>\n",
       "      <th>9</th>\n",
       "      <td>2023-02-26</td>\n",
       "      <td>On way back from skiing vacation thru Dulles ...</td>\n",
       "    </tr>\n",
       "  </tbody>\n",
       "</table>\n",
       "</div>"
      ],
      "text/plain": [
       "         Date                                             Tweets\n",
       "0  2023-03-07  RT CyndiCaBu Please support MISSElasmo  in the...\n",
       "1  2023-03-06   Me flight is delayed Mom oh wow is the weathe...\n",
       "2  2023-03-05   Ugh One of my least favorite aircraft The low...\n",
       "3  2023-03-04   Back to the South For a couple days So much n...\n",
       "4  2023-03-03   When your Instructor Evaluator Specialists pr...\n",
       "5  2023-03-02   RT n194at United Air LinesDouglas DC871 N8094...\n",
       "6  2023-03-01   united VirginAustralia The point of equality ...\n",
       "7  2023-02-28   united VirginAustralia Just another reason I ...\n",
       "8  2023-02-27   Check out United Super DC8 Inaugural Flight 1...\n",
       "9  2023-02-26   On way back from skiing vacation thru Dulles ..."
      ]
     },
     "execution_count": 25,
     "metadata": {},
     "output_type": "execute_result"
    }
   ],
   "source": [
    "ccdata"
   ]
  },
  {
   "attachments": {},
   "cell_type": "markdown",
   "metadata": {},
   "source": [
    "#### Nah untuk mengetahui \"closing price\" setiap harinya kita akan import DATA STOCK HARGA UNITED AIRLINES dari \"yahoo.finance\". Kita akan mempertimbangkan harga \"Closed\" saja."
   ]
  },
  {
   "cell_type": "code",
   "execution_count": 26,
   "metadata": {
    "ExecuteTime": {
     "end_time": "2021-09-22T09:38:24.417614Z",
     "start_time": "2021-09-22T09:38:24.386698Z"
    }
   },
   "outputs": [
    {
     "data": {
      "text/html": [
       "<div>\n",
       "<style scoped>\n",
       "    .dataframe tbody tr th:only-of-type {\n",
       "        vertical-align: middle;\n",
       "    }\n",
       "\n",
       "    .dataframe tbody tr th {\n",
       "        vertical-align: top;\n",
       "    }\n",
       "\n",
       "    .dataframe thead th {\n",
       "        text-align: right;\n",
       "    }\n",
       "</style>\n",
       "<table border=\"1\" class=\"dataframe\">\n",
       "  <thead>\n",
       "    <tr style=\"text-align: right;\">\n",
       "      <th></th>\n",
       "      <th>Date</th>\n",
       "      <th>Open</th>\n",
       "      <th>High</th>\n",
       "      <th>Low</th>\n",
       "      <th>Close</th>\n",
       "      <th>Adj Close</th>\n",
       "      <th>Volume</th>\n",
       "    </tr>\n",
       "  </thead>\n",
       "  <tbody>\n",
       "    <tr>\n",
       "      <th>0</th>\n",
       "      <td>2022-03-07</td>\n",
       "      <td>36.139999</td>\n",
       "      <td>36.500000</td>\n",
       "      <td>30.870001</td>\n",
       "      <td>31.200001</td>\n",
       "      <td>31.200001</td>\n",
       "      <td>45172400</td>\n",
       "    </tr>\n",
       "    <tr>\n",
       "      <th>1</th>\n",
       "      <td>2022-03-08</td>\n",
       "      <td>31.799999</td>\n",
       "      <td>34.240002</td>\n",
       "      <td>30.540001</td>\n",
       "      <td>32.240002</td>\n",
       "      <td>32.240002</td>\n",
       "      <td>34172800</td>\n",
       "    </tr>\n",
       "    <tr>\n",
       "      <th>2</th>\n",
       "      <td>2022-03-09</td>\n",
       "      <td>34.439999</td>\n",
       "      <td>36.459999</td>\n",
       "      <td>34.279999</td>\n",
       "      <td>34.900002</td>\n",
       "      <td>34.900002</td>\n",
       "      <td>34309000</td>\n",
       "    </tr>\n",
       "    <tr>\n",
       "      <th>3</th>\n",
       "      <td>2022-03-10</td>\n",
       "      <td>33.700001</td>\n",
       "      <td>35.759998</td>\n",
       "      <td>33.049999</td>\n",
       "      <td>35.200001</td>\n",
       "      <td>35.200001</td>\n",
       "      <td>18456400</td>\n",
       "    </tr>\n",
       "    <tr>\n",
       "      <th>4</th>\n",
       "      <td>2022-03-11</td>\n",
       "      <td>35.939999</td>\n",
       "      <td>36.139999</td>\n",
       "      <td>34.669998</td>\n",
       "      <td>34.869999</td>\n",
       "      <td>34.869999</td>\n",
       "      <td>15575900</td>\n",
       "    </tr>\n",
       "    <tr>\n",
       "      <th>...</th>\n",
       "      <td>...</td>\n",
       "      <td>...</td>\n",
       "      <td>...</td>\n",
       "      <td>...</td>\n",
       "      <td>...</td>\n",
       "      <td>...</td>\n",
       "      <td>...</td>\n",
       "    </tr>\n",
       "    <tr>\n",
       "      <th>245</th>\n",
       "      <td>2023-02-27</td>\n",
       "      <td>50.669998</td>\n",
       "      <td>51.520000</td>\n",
       "      <td>50.540001</td>\n",
       "      <td>50.700001</td>\n",
       "      <td>50.700001</td>\n",
       "      <td>4914300</td>\n",
       "    </tr>\n",
       "    <tr>\n",
       "      <th>246</th>\n",
       "      <td>2023-02-28</td>\n",
       "      <td>50.599998</td>\n",
       "      <td>52.330002</td>\n",
       "      <td>50.580002</td>\n",
       "      <td>51.959999</td>\n",
       "      <td>51.959999</td>\n",
       "      <td>6279700</td>\n",
       "    </tr>\n",
       "    <tr>\n",
       "      <th>247</th>\n",
       "      <td>2023-03-01</td>\n",
       "      <td>51.669998</td>\n",
       "      <td>52.540001</td>\n",
       "      <td>51.520000</td>\n",
       "      <td>52.389999</td>\n",
       "      <td>52.389999</td>\n",
       "      <td>4876100</td>\n",
       "    </tr>\n",
       "    <tr>\n",
       "      <th>248</th>\n",
       "      <td>2023-03-02</td>\n",
       "      <td>51.900002</td>\n",
       "      <td>52.610001</td>\n",
       "      <td>51.480000</td>\n",
       "      <td>52.560001</td>\n",
       "      <td>52.560001</td>\n",
       "      <td>3258800</td>\n",
       "    </tr>\n",
       "    <tr>\n",
       "      <th>249</th>\n",
       "      <td>2023-03-03</td>\n",
       "      <td>53.200001</td>\n",
       "      <td>53.860001</td>\n",
       "      <td>52.669998</td>\n",
       "      <td>53.060001</td>\n",
       "      <td>53.060001</td>\n",
       "      <td>6184700</td>\n",
       "    </tr>\n",
       "  </tbody>\n",
       "</table>\n",
       "<p>250 rows × 7 columns</p>\n",
       "</div>"
      ],
      "text/plain": [
       "           Date       Open       High        Low      Close  Adj Close  \\\n",
       "0    2022-03-07  36.139999  36.500000  30.870001  31.200001  31.200001   \n",
       "1    2022-03-08  31.799999  34.240002  30.540001  32.240002  32.240002   \n",
       "2    2022-03-09  34.439999  36.459999  34.279999  34.900002  34.900002   \n",
       "3    2022-03-10  33.700001  35.759998  33.049999  35.200001  35.200001   \n",
       "4    2022-03-11  35.939999  36.139999  34.669998  34.869999  34.869999   \n",
       "..          ...        ...        ...        ...        ...        ...   \n",
       "245  2023-02-27  50.669998  51.520000  50.540001  50.700001  50.700001   \n",
       "246  2023-02-28  50.599998  52.330002  50.580002  51.959999  51.959999   \n",
       "247  2023-03-01  51.669998  52.540001  51.520000  52.389999  52.389999   \n",
       "248  2023-03-02  51.900002  52.610001  51.480000  52.560001  52.560001   \n",
       "249  2023-03-03  53.200001  53.860001  52.669998  53.060001  53.060001   \n",
       "\n",
       "       Volume  \n",
       "0    45172400  \n",
       "1    34172800  \n",
       "2    34309000  \n",
       "3    18456400  \n",
       "4    15575900  \n",
       "..        ...  \n",
       "245   4914300  \n",
       "246   6279700  \n",
       "247   4876100  \n",
       "248   3258800  \n",
       "249   6184700  \n",
       "\n",
       "[250 rows x 7 columns]"
      ]
     },
     "execution_count": 26,
     "metadata": {},
     "output_type": "execute_result"
    }
   ],
   "source": [
    "read_stock_p=pd.read_csv('UAL.csv')\n",
    "# DOWNLOAD UPDATED CLOSE PRICE FROM https://finance.yahoo.com/quote/UAL/history?period1=1598918400&period2=1632268800&interval=1d&filter=history&frequency=1d&includeAdjustedClose=true\n",
    "read_stock_p"
   ]
  },
  {
   "attachments": {},
   "cell_type": "markdown",
   "metadata": {},
   "source": [
    "#### Menambahkan kolom \"Price\" pada dataframe dan mengambil harga saham sesuai tanggal dalam dataframe."
   ]
  },
  {
   "cell_type": "code",
   "execution_count": 27,
   "metadata": {
    "ExecuteTime": {
     "end_time": "2021-09-22T09:38:25.665268Z",
     "start_time": "2021-09-22T09:38:25.661310Z"
    }
   },
   "outputs": [],
   "source": [
    "ccdata['Prices']=\"\""
   ]
  },
  {
   "cell_type": "code",
   "execution_count": 28,
   "metadata": {
    "ExecuteTime": {
     "end_time": "2021-09-22T09:39:33.585643Z",
     "start_time": "2021-09-22T09:39:33.509806Z"
    }
   },
   "outputs": [],
   "source": [
    "indx=0\n",
    "for i in range (0,len(ccdata)):\n",
    "    for j in range (0,len(read_stock_p)):\n",
    "        get_tweet_date=ccdata.Date.iloc[i]\n",
    "        get_stock_date=read_stock_p.Date.iloc[j]\n",
    "        if(str(get_stock_date)==str(get_tweet_date)):\n",
    "            #print(get_stock_date,\" \",get_tweet_date)\n",
    "            #ccdata.set_value(i,'Prices',int(read_stock_p.Close[j]))\n",
    "            ccdata['Prices'].iloc[i] = int(read_stock_p.Close[j])"
   ]
  },
  {
   "attachments": {},
   "cell_type": "markdown",
   "metadata": {},
   "source": [
    "#### Harga diambil tetapi beberapa entri kosong karena harga penutupan mungkin tidak tersedia untuk hari itu karena beberapa alasan (seperti hari libur, dll.)"
   ]
  },
  {
   "cell_type": "code",
   "execution_count": 29,
   "metadata": {
    "ExecuteTime": {
     "end_time": "2021-09-22T09:39:34.774346Z",
     "start_time": "2021-09-22T09:39:34.754395Z"
    },
    "scrolled": true
   },
   "outputs": [
    {
     "data": {
      "text/html": [
       "<div>\n",
       "<style scoped>\n",
       "    .dataframe tbody tr th:only-of-type {\n",
       "        vertical-align: middle;\n",
       "    }\n",
       "\n",
       "    .dataframe tbody tr th {\n",
       "        vertical-align: top;\n",
       "    }\n",
       "\n",
       "    .dataframe thead th {\n",
       "        text-align: right;\n",
       "    }\n",
       "</style>\n",
       "<table border=\"1\" class=\"dataframe\">\n",
       "  <thead>\n",
       "    <tr style=\"text-align: right;\">\n",
       "      <th></th>\n",
       "      <th>Date</th>\n",
       "      <th>Tweets</th>\n",
       "      <th>Prices</th>\n",
       "    </tr>\n",
       "  </thead>\n",
       "  <tbody>\n",
       "    <tr>\n",
       "      <th>0</th>\n",
       "      <td>2023-03-07</td>\n",
       "      <td>RT CyndiCaBu Please support MISSElasmo  in the...</td>\n",
       "      <td></td>\n",
       "    </tr>\n",
       "    <tr>\n",
       "      <th>1</th>\n",
       "      <td>2023-03-06</td>\n",
       "      <td>Me flight is delayed Mom oh wow is the weathe...</td>\n",
       "      <td></td>\n",
       "    </tr>\n",
       "    <tr>\n",
       "      <th>2</th>\n",
       "      <td>2023-03-05</td>\n",
       "      <td>Ugh One of my least favorite aircraft The low...</td>\n",
       "      <td></td>\n",
       "    </tr>\n",
       "    <tr>\n",
       "      <th>3</th>\n",
       "      <td>2023-03-04</td>\n",
       "      <td>Back to the South For a couple days So much n...</td>\n",
       "      <td></td>\n",
       "    </tr>\n",
       "    <tr>\n",
       "      <th>4</th>\n",
       "      <td>2023-03-03</td>\n",
       "      <td>When your Instructor Evaluator Specialists pr...</td>\n",
       "      <td>53</td>\n",
       "    </tr>\n",
       "    <tr>\n",
       "      <th>5</th>\n",
       "      <td>2023-03-02</td>\n",
       "      <td>RT n194at United Air LinesDouglas DC871 N8094...</td>\n",
       "      <td>52</td>\n",
       "    </tr>\n",
       "    <tr>\n",
       "      <th>6</th>\n",
       "      <td>2023-03-01</td>\n",
       "      <td>united VirginAustralia The point of equality ...</td>\n",
       "      <td>52</td>\n",
       "    </tr>\n",
       "    <tr>\n",
       "      <th>7</th>\n",
       "      <td>2023-02-28</td>\n",
       "      <td>united VirginAustralia Just another reason I ...</td>\n",
       "      <td>51</td>\n",
       "    </tr>\n",
       "    <tr>\n",
       "      <th>8</th>\n",
       "      <td>2023-02-27</td>\n",
       "      <td>Check out United Super DC8 Inaugural Flight 1...</td>\n",
       "      <td>50</td>\n",
       "    </tr>\n",
       "    <tr>\n",
       "      <th>9</th>\n",
       "      <td>2023-02-26</td>\n",
       "      <td>On way back from skiing vacation thru Dulles ...</td>\n",
       "      <td></td>\n",
       "    </tr>\n",
       "  </tbody>\n",
       "</table>\n",
       "</div>"
      ],
      "text/plain": [
       "         Date                                             Tweets Prices\n",
       "0  2023-03-07  RT CyndiCaBu Please support MISSElasmo  in the...       \n",
       "1  2023-03-06   Me flight is delayed Mom oh wow is the weathe...       \n",
       "2  2023-03-05   Ugh One of my least favorite aircraft The low...       \n",
       "3  2023-03-04   Back to the South For a couple days So much n...       \n",
       "4  2023-03-03   When your Instructor Evaluator Specialists pr...     53\n",
       "5  2023-03-02   RT n194at United Air LinesDouglas DC871 N8094...     52\n",
       "6  2023-03-01   united VirginAustralia The point of equality ...     52\n",
       "7  2023-02-28   united VirginAustralia Just another reason I ...     51\n",
       "8  2023-02-27   Check out United Super DC8 Inaugural Flight 1...     50\n",
       "9  2023-02-26   On way back from skiing vacation thru Dulles ...       "
      ]
     },
     "execution_count": 29,
     "metadata": {},
     "output_type": "execute_result"
    }
   ],
   "source": [
    "d = ccdata\n",
    "d.tail(100)"
   ]
  },
  {
   "attachments": {},
   "cell_type": "markdown",
   "metadata": {},
   "source": [
    "#### Jadi kita mengambil nilai rata-rata untuk harga penutupan dan memasukkannya ke dalam nilai kosong"
   ]
  },
  {
   "cell_type": "code",
   "execution_count": 30,
   "metadata": {
    "ExecuteTime": {
     "end_time": "2021-09-22T09:39:37.144442Z",
     "start_time": "2021-09-22T09:39:37.126487Z"
    }
   },
   "outputs": [],
   "source": [
    "mean=0\n",
    "summ=0\n",
    "count=0\n",
    "for i in range(0,len(ccdata)):\n",
    "    if(ccdata.Prices.iloc[i]!=\"\"):\n",
    "        summ=summ+int(ccdata.Prices.iloc[i])\n",
    "        count=count+1\n",
    "mean=summ/count\n",
    "for i in range(0,len(ccdata)):\n",
    "    if(ccdata.Prices.iloc[i]==\"\"):\n",
    "        ccdata.Prices.iloc[i]=int(mean)"
   ]
  },
  {
   "attachments": {},
   "cell_type": "markdown",
   "metadata": {},
   "source": [
    "#### Sekarang semua data telah terisi"
   ]
  },
  {
   "cell_type": "code",
   "execution_count": 31,
   "metadata": {
    "ExecuteTime": {
     "end_time": "2021-09-22T09:39:39.559565Z",
     "start_time": "2021-09-22T09:39:39.547599Z"
    }
   },
   "outputs": [
    {
     "data": {
      "text/html": [
       "<div>\n",
       "<style scoped>\n",
       "    .dataframe tbody tr th:only-of-type {\n",
       "        vertical-align: middle;\n",
       "    }\n",
       "\n",
       "    .dataframe tbody tr th {\n",
       "        vertical-align: top;\n",
       "    }\n",
       "\n",
       "    .dataframe thead th {\n",
       "        text-align: right;\n",
       "    }\n",
       "</style>\n",
       "<table border=\"1\" class=\"dataframe\">\n",
       "  <thead>\n",
       "    <tr style=\"text-align: right;\">\n",
       "      <th></th>\n",
       "      <th>Date</th>\n",
       "      <th>Tweets</th>\n",
       "      <th>Prices</th>\n",
       "    </tr>\n",
       "  </thead>\n",
       "  <tbody>\n",
       "    <tr>\n",
       "      <th>0</th>\n",
       "      <td>2023-03-07</td>\n",
       "      <td>RT CyndiCaBu Please support MISSElasmo  in the...</td>\n",
       "      <td>51</td>\n",
       "    </tr>\n",
       "    <tr>\n",
       "      <th>1</th>\n",
       "      <td>2023-03-06</td>\n",
       "      <td>Me flight is delayed Mom oh wow is the weathe...</td>\n",
       "      <td>51</td>\n",
       "    </tr>\n",
       "    <tr>\n",
       "      <th>2</th>\n",
       "      <td>2023-03-05</td>\n",
       "      <td>Ugh One of my least favorite aircraft The low...</td>\n",
       "      <td>51</td>\n",
       "    </tr>\n",
       "    <tr>\n",
       "      <th>3</th>\n",
       "      <td>2023-03-04</td>\n",
       "      <td>Back to the South For a couple days So much n...</td>\n",
       "      <td>51</td>\n",
       "    </tr>\n",
       "    <tr>\n",
       "      <th>4</th>\n",
       "      <td>2023-03-03</td>\n",
       "      <td>When your Instructor Evaluator Specialists pr...</td>\n",
       "      <td>53</td>\n",
       "    </tr>\n",
       "    <tr>\n",
       "      <th>5</th>\n",
       "      <td>2023-03-02</td>\n",
       "      <td>RT n194at United Air LinesDouglas DC871 N8094...</td>\n",
       "      <td>52</td>\n",
       "    </tr>\n",
       "    <tr>\n",
       "      <th>6</th>\n",
       "      <td>2023-03-01</td>\n",
       "      <td>united VirginAustralia The point of equality ...</td>\n",
       "      <td>52</td>\n",
       "    </tr>\n",
       "    <tr>\n",
       "      <th>7</th>\n",
       "      <td>2023-02-28</td>\n",
       "      <td>united VirginAustralia Just another reason I ...</td>\n",
       "      <td>51</td>\n",
       "    </tr>\n",
       "    <tr>\n",
       "      <th>8</th>\n",
       "      <td>2023-02-27</td>\n",
       "      <td>Check out United Super DC8 Inaugural Flight 1...</td>\n",
       "      <td>50</td>\n",
       "    </tr>\n",
       "    <tr>\n",
       "      <th>9</th>\n",
       "      <td>2023-02-26</td>\n",
       "      <td>On way back from skiing vacation thru Dulles ...</td>\n",
       "      <td>51</td>\n",
       "    </tr>\n",
       "  </tbody>\n",
       "</table>\n",
       "</div>"
      ],
      "text/plain": [
       "         Date                                             Tweets Prices\n",
       "0  2023-03-07  RT CyndiCaBu Please support MISSElasmo  in the...     51\n",
       "1  2023-03-06   Me flight is delayed Mom oh wow is the weathe...     51\n",
       "2  2023-03-05   Ugh One of my least favorite aircraft The low...     51\n",
       "3  2023-03-04   Back to the South For a couple days So much n...     51\n",
       "4  2023-03-03   When your Instructor Evaluator Specialists pr...     53\n",
       "5  2023-03-02   RT n194at United Air LinesDouglas DC871 N8094...     52\n",
       "6  2023-03-01   united VirginAustralia The point of equality ...     52\n",
       "7  2023-02-28   united VirginAustralia Just another reason I ...     51\n",
       "8  2023-02-27   Check out United Super DC8 Inaugural Flight 1...     50\n",
       "9  2023-02-26   On way back from skiing vacation thru Dulles ...     51"
      ]
     },
     "execution_count": 31,
     "metadata": {},
     "output_type": "execute_result"
    }
   ],
   "source": [
    "ccdata"
   ]
  },
  {
   "attachments": {},
   "cell_type": "markdown",
   "metadata": {},
   "source": [
    "#### buat kolom \"prices\" menjadi integer sehingga operasi matematika dapat digunakan secara mudah."
   ]
  },
  {
   "cell_type": "code",
   "execution_count": 32,
   "metadata": {
    "ExecuteTime": {
     "end_time": "2021-09-22T09:39:41.884443Z",
     "start_time": "2021-09-22T09:39:41.873474Z"
    }
   },
   "outputs": [],
   "source": [
    "ccdata['Prices'] = ccdata['Prices'].apply(np.int64)"
   ]
  },
  {
   "attachments": {},
   "cell_type": "markdown",
   "metadata": {},
   "source": [
    "#### Menambahkan 4 kolom baru dalam kerangka data kita sehingga analisis sentimen dapat dilakukan.. Comp adalah \"Gabungan\" yang akan memberi tahu apakah pernyataan tersebut secara keseluruhan negatif atau positif. Jika bernilai negatif maka bernilai negatif, jika bernilai positif maka bernilai positif. Jika bernilai 0, maka netral."
   ]
  },
  {
   "cell_type": "code",
   "execution_count": 33,
   "metadata": {
    "ExecuteTime": {
     "end_time": "2021-09-22T09:39:42.917283Z",
     "start_time": "2021-09-22T09:39:42.894365Z"
    }
   },
   "outputs": [
    {
     "data": {
      "text/html": [
       "<div>\n",
       "<style scoped>\n",
       "    .dataframe tbody tr th:only-of-type {\n",
       "        vertical-align: middle;\n",
       "    }\n",
       "\n",
       "    .dataframe tbody tr th {\n",
       "        vertical-align: top;\n",
       "    }\n",
       "\n",
       "    .dataframe thead th {\n",
       "        text-align: right;\n",
       "    }\n",
       "</style>\n",
       "<table border=\"1\" class=\"dataframe\">\n",
       "  <thead>\n",
       "    <tr style=\"text-align: right;\">\n",
       "      <th></th>\n",
       "      <th>Date</th>\n",
       "      <th>Tweets</th>\n",
       "      <th>Prices</th>\n",
       "      <th>Comp</th>\n",
       "      <th>Negative</th>\n",
       "      <th>Neutral</th>\n",
       "      <th>Positive</th>\n",
       "    </tr>\n",
       "  </thead>\n",
       "  <tbody>\n",
       "    <tr>\n",
       "      <th>0</th>\n",
       "      <td>2023-03-07</td>\n",
       "      <td>RT CyndiCaBu Please support MISSElasmo  in the...</td>\n",
       "      <td>51</td>\n",
       "      <td></td>\n",
       "      <td></td>\n",
       "      <td></td>\n",
       "      <td></td>\n",
       "    </tr>\n",
       "    <tr>\n",
       "      <th>1</th>\n",
       "      <td>2023-03-06</td>\n",
       "      <td>Me flight is delayed Mom oh wow is the weathe...</td>\n",
       "      <td>51</td>\n",
       "      <td></td>\n",
       "      <td></td>\n",
       "      <td></td>\n",
       "      <td></td>\n",
       "    </tr>\n",
       "    <tr>\n",
       "      <th>2</th>\n",
       "      <td>2023-03-05</td>\n",
       "      <td>Ugh One of my least favorite aircraft The low...</td>\n",
       "      <td>51</td>\n",
       "      <td></td>\n",
       "      <td></td>\n",
       "      <td></td>\n",
       "      <td></td>\n",
       "    </tr>\n",
       "    <tr>\n",
       "      <th>3</th>\n",
       "      <td>2023-03-04</td>\n",
       "      <td>Back to the South For a couple days So much n...</td>\n",
       "      <td>51</td>\n",
       "      <td></td>\n",
       "      <td></td>\n",
       "      <td></td>\n",
       "      <td></td>\n",
       "    </tr>\n",
       "    <tr>\n",
       "      <th>4</th>\n",
       "      <td>2023-03-03</td>\n",
       "      <td>When your Instructor Evaluator Specialists pr...</td>\n",
       "      <td>53</td>\n",
       "      <td></td>\n",
       "      <td></td>\n",
       "      <td></td>\n",
       "      <td></td>\n",
       "    </tr>\n",
       "    <tr>\n",
       "      <th>5</th>\n",
       "      <td>2023-03-02</td>\n",
       "      <td>RT n194at United Air LinesDouglas DC871 N8094...</td>\n",
       "      <td>52</td>\n",
       "      <td></td>\n",
       "      <td></td>\n",
       "      <td></td>\n",
       "      <td></td>\n",
       "    </tr>\n",
       "    <tr>\n",
       "      <th>6</th>\n",
       "      <td>2023-03-01</td>\n",
       "      <td>united VirginAustralia The point of equality ...</td>\n",
       "      <td>52</td>\n",
       "      <td></td>\n",
       "      <td></td>\n",
       "      <td></td>\n",
       "      <td></td>\n",
       "    </tr>\n",
       "    <tr>\n",
       "      <th>7</th>\n",
       "      <td>2023-02-28</td>\n",
       "      <td>united VirginAustralia Just another reason I ...</td>\n",
       "      <td>51</td>\n",
       "      <td></td>\n",
       "      <td></td>\n",
       "      <td></td>\n",
       "      <td></td>\n",
       "    </tr>\n",
       "    <tr>\n",
       "      <th>8</th>\n",
       "      <td>2023-02-27</td>\n",
       "      <td>Check out United Super DC8 Inaugural Flight 1...</td>\n",
       "      <td>50</td>\n",
       "      <td></td>\n",
       "      <td></td>\n",
       "      <td></td>\n",
       "      <td></td>\n",
       "    </tr>\n",
       "    <tr>\n",
       "      <th>9</th>\n",
       "      <td>2023-02-26</td>\n",
       "      <td>On way back from skiing vacation thru Dulles ...</td>\n",
       "      <td>51</td>\n",
       "      <td></td>\n",
       "      <td></td>\n",
       "      <td></td>\n",
       "      <td></td>\n",
       "    </tr>\n",
       "  </tbody>\n",
       "</table>\n",
       "</div>"
      ],
      "text/plain": [
       "         Date                                             Tweets  Prices Comp  \\\n",
       "0  2023-03-07  RT CyndiCaBu Please support MISSElasmo  in the...      51        \n",
       "1  2023-03-06   Me flight is delayed Mom oh wow is the weathe...      51        \n",
       "2  2023-03-05   Ugh One of my least favorite aircraft The low...      51        \n",
       "3  2023-03-04   Back to the South For a couple days So much n...      51        \n",
       "4  2023-03-03   When your Instructor Evaluator Specialists pr...      53        \n",
       "5  2023-03-02   RT n194at United Air LinesDouglas DC871 N8094...      52        \n",
       "6  2023-03-01   united VirginAustralia The point of equality ...      52        \n",
       "7  2023-02-28   united VirginAustralia Just another reason I ...      51        \n",
       "8  2023-02-27   Check out United Super DC8 Inaugural Flight 1...      50        \n",
       "9  2023-02-26   On way back from skiing vacation thru Dulles ...      51        \n",
       "\n",
       "  Negative Neutral Positive  \n",
       "0                            \n",
       "1                            \n",
       "2                            \n",
       "3                            \n",
       "4                            \n",
       "5                            \n",
       "6                            \n",
       "7                            \n",
       "8                            \n",
       "9                            "
      ]
     },
     "execution_count": 33,
     "metadata": {},
     "output_type": "execute_result"
    }
   ],
   "source": [
    "ccdata[\"Comp\"] = ''\n",
    "ccdata[\"Negative\"] = ''\n",
    "ccdata[\"Neutral\"] = ''\n",
    "ccdata[\"Positive\"] = ''\n",
    "ccdata"
   ]
  },
  {
   "attachments": {},
   "cell_type": "markdown",
   "metadata": {},
   "source": [
    "#### Downloading package berikut untuk sentiment analysis."
   ]
  },
  {
   "cell_type": "code",
   "execution_count": 34,
   "metadata": {
    "ExecuteTime": {
     "end_time": "2021-09-22T09:39:45.645882Z",
     "start_time": "2021-09-22T09:39:44.853380Z"
    }
   },
   "outputs": [
    {
     "name": "stderr",
     "output_type": "stream",
     "text": [
      "[nltk_data] Downloading package vader_lexicon to\n",
      "[nltk_data]     C:\\Users\\ardik\\AppData\\Roaming\\nltk_data...\n",
      "[nltk_data]   Package vader_lexicon is already up-to-date!\n"
     ]
    },
    {
     "data": {
      "text/plain": [
       "True"
      ]
     },
     "execution_count": 34,
     "metadata": {},
     "output_type": "execute_result"
    }
   ],
   "source": [
    "import nltk\n",
    "nltk.download('vader_lexicon')"
   ]
  },
  {
   "attachments": {},
   "cell_type": "markdown",
   "metadata": {},
   "source": [
    "#### Bagian kode ini bertanggung jawab untuk menetapkan polaritas untuk setiap pernyataan. Itulah seberapa banyak pernyataan positif, negatif, netral. Dan juga menetapkan nilai majemuk yang merupakan sentimen keseluruhan dari pernyataan tersebut."
   ]
  },
  {
   "cell_type": "code",
   "execution_count": 35,
   "metadata": {
    "ExecuteTime": {
     "end_time": "2021-09-22T09:41:51.701865Z",
     "start_time": "2021-09-22T09:41:51.584148Z"
    }
   },
   "outputs": [
    {
     "name": "stderr",
     "output_type": "stream",
     "text": [
      "C:\\Users\\ardik\\AppData\\Local\\Temp\\ipykernel_10680\\598416434.py:5: FutureWarning: iteritems is deprecated and will be removed in a future version. Use .items instead.\n",
      "  for indexx, row in ccdata.T.iteritems():\n",
      "C:\\Users\\ardik\\AppData\\Local\\Temp\\ipykernel_10680\\598416434.py:9: SettingWithCopyWarning: \n",
      "A value is trying to be set on a copy of a slice from a DataFrame\n",
      "\n",
      "See the caveats in the documentation: https://pandas.pydata.org/pandas-docs/stable/user_guide/indexing.html#returning-a-view-versus-a-copy\n",
      "  ccdata['Comp'].iloc[indexx] = sentence_sentiment['compound']\n",
      "C:\\Users\\ardik\\AppData\\Local\\Temp\\ipykernel_10680\\598416434.py:10: SettingWithCopyWarning: \n",
      "A value is trying to be set on a copy of a slice from a DataFrame\n",
      "\n",
      "See the caveats in the documentation: https://pandas.pydata.org/pandas-docs/stable/user_guide/indexing.html#returning-a-view-versus-a-copy\n",
      "  ccdata['Negative'].iloc[indexx] = sentence_sentiment['neg']\n",
      "C:\\Users\\ardik\\AppData\\Local\\Temp\\ipykernel_10680\\598416434.py:11: SettingWithCopyWarning: \n",
      "A value is trying to be set on a copy of a slice from a DataFrame\n",
      "\n",
      "See the caveats in the documentation: https://pandas.pydata.org/pandas-docs/stable/user_guide/indexing.html#returning-a-view-versus-a-copy\n",
      "  ccdata['Neutral'].iloc[indexx] = sentence_sentiment['neu']\n",
      "C:\\Users\\ardik\\AppData\\Local\\Temp\\ipykernel_10680\\598416434.py:12: SettingWithCopyWarning: \n",
      "A value is trying to be set on a copy of a slice from a DataFrame\n",
      "\n",
      "See the caveats in the documentation: https://pandas.pydata.org/pandas-docs/stable/user_guide/indexing.html#returning-a-view-versus-a-copy\n",
      "  ccdata['Positive'].iloc[indexx] = sentence_sentiment['compound']\n"
     ]
    }
   ],
   "source": [
    "from nltk.sentiment.vader import SentimentIntensityAnalyzer\n",
    "from nltk.sentiment.vader import SentimentIntensityAnalyzer\n",
    "import unicodedata\n",
    "sentiment_i_a = SentimentIntensityAnalyzer()\n",
    "for indexx, row in ccdata.T.iteritems():\n",
    "    try:\n",
    "        sentence_i = unicodedata.normalize('NFKD', ccdata.loc[indexx, 'Tweets'])\n",
    "        sentence_sentiment = sentiment_i_a.polarity_scores(sentence_i)\n",
    "        ccdata['Comp'].iloc[indexx] = sentence_sentiment['compound']\n",
    "        ccdata['Negative'].iloc[indexx] = sentence_sentiment['neg']\n",
    "        ccdata['Neutral'].iloc[indexx] = sentence_sentiment['neu']\n",
    "        ccdata['Positive'].iloc[indexx] = sentence_sentiment['compound']\n",
    "        # ccdata.set_value(indexx, 'Comp', sentence_sentiment['pos'])\n",
    "        # ccdata.set_value(indexx, 'Negative', sentence_sentiment['neg'])\n",
    "        # ccdata.set_value(indexx, 'Neutral', sentence_sentiment['neu'])\n",
    "        # ccdata.set_value(indexx, 'Positive', sentence_sentiment['pos'])\n",
    "    except TypeError:\n",
    "        print(stocks_dataf.loc[indexx, 'Tweets'])\n",
    "        print(indexx)"
   ]
  },
  {
   "cell_type": "code",
   "execution_count": 36,
   "metadata": {
    "ExecuteTime": {
     "end_time": "2021-09-22T09:41:52.464197Z",
     "start_time": "2021-09-22T09:41:52.452260Z"
    }
   },
   "outputs": [
    {
     "data": {
      "text/html": [
       "<div>\n",
       "<style scoped>\n",
       "    .dataframe tbody tr th:only-of-type {\n",
       "        vertical-align: middle;\n",
       "    }\n",
       "\n",
       "    .dataframe tbody tr th {\n",
       "        vertical-align: top;\n",
       "    }\n",
       "\n",
       "    .dataframe thead th {\n",
       "        text-align: right;\n",
       "    }\n",
       "</style>\n",
       "<table border=\"1\" class=\"dataframe\">\n",
       "  <thead>\n",
       "    <tr style=\"text-align: right;\">\n",
       "      <th></th>\n",
       "      <th>Date</th>\n",
       "      <th>Tweets</th>\n",
       "      <th>Prices</th>\n",
       "      <th>Comp</th>\n",
       "      <th>Negative</th>\n",
       "      <th>Neutral</th>\n",
       "      <th>Positive</th>\n",
       "    </tr>\n",
       "  </thead>\n",
       "  <tbody>\n",
       "    <tr>\n",
       "      <th>0</th>\n",
       "      <td>2023-03-07</td>\n",
       "      <td>RT CyndiCaBu Please support MISSElasmo  in the...</td>\n",
       "      <td>51</td>\n",
       "      <td>0.9959</td>\n",
       "      <td>0.11</td>\n",
       "      <td>0.755</td>\n",
       "      <td>0.9959</td>\n",
       "    </tr>\n",
       "    <tr>\n",
       "      <th>1</th>\n",
       "      <td>2023-03-06</td>\n",
       "      <td>Me flight is delayed Mom oh wow is the weathe...</td>\n",
       "      <td>51</td>\n",
       "      <td>0.9991</td>\n",
       "      <td>0.079</td>\n",
       "      <td>0.773</td>\n",
       "      <td>0.9991</td>\n",
       "    </tr>\n",
       "    <tr>\n",
       "      <th>2</th>\n",
       "      <td>2023-03-05</td>\n",
       "      <td>Ugh One of my least favorite aircraft The low...</td>\n",
       "      <td>51</td>\n",
       "      <td>0.9979</td>\n",
       "      <td>0.041</td>\n",
       "      <td>0.811</td>\n",
       "      <td>0.9979</td>\n",
       "    </tr>\n",
       "    <tr>\n",
       "      <th>3</th>\n",
       "      <td>2023-03-04</td>\n",
       "      <td>Back to the South For a couple days So much n...</td>\n",
       "      <td>51</td>\n",
       "      <td>0.9936</td>\n",
       "      <td>0.064</td>\n",
       "      <td>0.817</td>\n",
       "      <td>0.9936</td>\n",
       "    </tr>\n",
       "    <tr>\n",
       "      <th>4</th>\n",
       "      <td>2023-03-03</td>\n",
       "      <td>When your Instructor Evaluator Specialists pr...</td>\n",
       "      <td>53</td>\n",
       "      <td>0.9993</td>\n",
       "      <td>0.055</td>\n",
       "      <td>0.767</td>\n",
       "      <td>0.9993</td>\n",
       "    </tr>\n",
       "    <tr>\n",
       "      <th>5</th>\n",
       "      <td>2023-03-02</td>\n",
       "      <td>RT n194at United Air LinesDouglas DC871 N8094...</td>\n",
       "      <td>52</td>\n",
       "      <td>0.9999</td>\n",
       "      <td>0.048</td>\n",
       "      <td>0.727</td>\n",
       "      <td>0.9999</td>\n",
       "    </tr>\n",
       "    <tr>\n",
       "      <th>6</th>\n",
       "      <td>2023-03-01</td>\n",
       "      <td>united VirginAustralia The point of equality ...</td>\n",
       "      <td>52</td>\n",
       "      <td>0.9997</td>\n",
       "      <td>0.055</td>\n",
       "      <td>0.729</td>\n",
       "      <td>0.9997</td>\n",
       "    </tr>\n",
       "    <tr>\n",
       "      <th>7</th>\n",
       "      <td>2023-02-28</td>\n",
       "      <td>united VirginAustralia Just another reason I ...</td>\n",
       "      <td>51</td>\n",
       "      <td>0.9996</td>\n",
       "      <td>0.005</td>\n",
       "      <td>0.741</td>\n",
       "      <td>0.9996</td>\n",
       "    </tr>\n",
       "    <tr>\n",
       "      <th>8</th>\n",
       "      <td>2023-02-27</td>\n",
       "      <td>Check out United Super DC8 Inaugural Flight 1...</td>\n",
       "      <td>50</td>\n",
       "      <td>0.9884</td>\n",
       "      <td>0.051</td>\n",
       "      <td>0.828</td>\n",
       "      <td>0.9884</td>\n",
       "    </tr>\n",
       "    <tr>\n",
       "      <th>9</th>\n",
       "      <td>2023-02-26</td>\n",
       "      <td>On way back from skiing vacation thru Dulles ...</td>\n",
       "      <td>51</td>\n",
       "      <td>0.888</td>\n",
       "      <td>0.089</td>\n",
       "      <td>0.812</td>\n",
       "      <td>0.888</td>\n",
       "    </tr>\n",
       "  </tbody>\n",
       "</table>\n",
       "</div>"
      ],
      "text/plain": [
       "         Date                                             Tweets  Prices  \\\n",
       "0  2023-03-07  RT CyndiCaBu Please support MISSElasmo  in the...      51   \n",
       "1  2023-03-06   Me flight is delayed Mom oh wow is the weathe...      51   \n",
       "2  2023-03-05   Ugh One of my least favorite aircraft The low...      51   \n",
       "3  2023-03-04   Back to the South For a couple days So much n...      51   \n",
       "4  2023-03-03   When your Instructor Evaluator Specialists pr...      53   \n",
       "5  2023-03-02   RT n194at United Air LinesDouglas DC871 N8094...      52   \n",
       "6  2023-03-01   united VirginAustralia The point of equality ...      52   \n",
       "7  2023-02-28   united VirginAustralia Just another reason I ...      51   \n",
       "8  2023-02-27   Check out United Super DC8 Inaugural Flight 1...      50   \n",
       "9  2023-02-26   On way back from skiing vacation thru Dulles ...      51   \n",
       "\n",
       "     Comp Negative Neutral Positive  \n",
       "0  0.9959     0.11   0.755   0.9959  \n",
       "1  0.9991    0.079   0.773   0.9991  \n",
       "2  0.9979    0.041   0.811   0.9979  \n",
       "3  0.9936    0.064   0.817   0.9936  \n",
       "4  0.9993    0.055   0.767   0.9993  \n",
       "5  0.9999    0.048   0.727   0.9999  \n",
       "6  0.9997    0.055   0.729   0.9997  \n",
       "7  0.9996    0.005   0.741   0.9996  \n",
       "8  0.9884    0.051   0.828   0.9884  \n",
       "9   0.888    0.089   0.812    0.888  "
      ]
     },
     "execution_count": 36,
     "metadata": {},
     "output_type": "execute_result"
    }
   ],
   "source": [
    "ccdata"
   ]
  },
  {
   "attachments": {},
   "cell_type": "markdown",
   "metadata": {},
   "source": [
    "#### Menghitung persentase tweet positif dan negatif, dan membuat grafik PIE "
   ]
  },
  {
   "cell_type": "code",
   "execution_count": 37,
   "metadata": {
    "ExecuteTime": {
     "end_time": "2021-09-22T09:43:58.673907Z",
     "start_time": "2021-09-22T09:43:58.601071Z"
    },
    "scrolled": true
   },
   "outputs": [
    {
     "name": "stdout",
     "output_type": "stream",
     "text": [
      "% of positive tweets=  100.0\n",
      "% of negative tweets=  0.0\n"
     ]
    },
    {
     "data": {
      "text/plain": [
       "[]"
      ]
     },
     "execution_count": 37,
     "metadata": {},
     "output_type": "execute_result"
    },
    {
     "data": {
      "image/png": "[encoded data removed]",
      "text/plain": [
       "<Figure size 640x480 with 1 Axes>"
      ]
     },
     "metadata": {},
     "output_type": "display_data"
    }
   ],
   "source": [
    "posi=0\n",
    "nega=0\n",
    "for i in range (0,len(ccdata)):\n",
    "    get_val=ccdata.Comp[i]\n",
    "    if(float(get_val)<(0)):\n",
    "        nega=nega+1\n",
    "    if(float(get_val>(0))):\n",
    "        posi=posi+1\n",
    "posper=(posi/(len(ccdata)))*100\n",
    "negper=(nega/(len(ccdata)))*100\n",
    "print(\"% of positive tweets= \",posper)\n",
    "print(\"% of negative tweets= \",negper)\n",
    "arr=np.asarray([posper,negper], dtype=int)\n",
    "mlpt.pie(arr,labels=['positive','negative'])\n",
    "mlpt.plot()"
   ]
  },
  {
   "attachments": {},
   "cell_type": "markdown",
   "metadata": {},
   "source": [
    "#### Membuat kerangka data baru dengan kolom yang diperlukan untuk menggunakan algoritma pembelajaran mesin"
   ]
  },
  {
   "cell_type": "code",
   "execution_count": 38,
   "metadata": {
    "ExecuteTime": {
     "end_time": "2021-09-22T09:44:01.310736Z",
     "start_time": "2021-09-22T09:44:01.301731Z"
    }
   },
   "outputs": [],
   "source": [
    "df_=ccdata[['Date','Prices','Comp','Negative','Neutral','Positive']].copy()"
   ]
  },
  {
   "cell_type": "code",
   "execution_count": 39,
   "metadata": {
    "ExecuteTime": {
     "end_time": "2021-09-22T09:44:01.654699Z",
     "start_time": "2021-09-22T09:44:01.635721Z"
    }
   },
   "outputs": [
    {
     "data": {
      "text/html": [
       "<div>\n",
       "<style scoped>\n",
       "    .dataframe tbody tr th:only-of-type {\n",
       "        vertical-align: middle;\n",
       "    }\n",
       "\n",
       "    .dataframe tbody tr th {\n",
       "        vertical-align: top;\n",
       "    }\n",
       "\n",
       "    .dataframe thead th {\n",
       "        text-align: right;\n",
       "    }\n",
       "</style>\n",
       "<table border=\"1\" class=\"dataframe\">\n",
       "  <thead>\n",
       "    <tr style=\"text-align: right;\">\n",
       "      <th></th>\n",
       "      <th>Date</th>\n",
       "      <th>Prices</th>\n",
       "      <th>Comp</th>\n",
       "      <th>Negative</th>\n",
       "      <th>Neutral</th>\n",
       "      <th>Positive</th>\n",
       "    </tr>\n",
       "  </thead>\n",
       "  <tbody>\n",
       "    <tr>\n",
       "      <th>0</th>\n",
       "      <td>2023-03-07</td>\n",
       "      <td>51</td>\n",
       "      <td>0.9959</td>\n",
       "      <td>0.11</td>\n",
       "      <td>0.755</td>\n",
       "      <td>0.9959</td>\n",
       "    </tr>\n",
       "    <tr>\n",
       "      <th>1</th>\n",
       "      <td>2023-03-06</td>\n",
       "      <td>51</td>\n",
       "      <td>0.9991</td>\n",
       "      <td>0.079</td>\n",
       "      <td>0.773</td>\n",
       "      <td>0.9991</td>\n",
       "    </tr>\n",
       "    <tr>\n",
       "      <th>2</th>\n",
       "      <td>2023-03-05</td>\n",
       "      <td>51</td>\n",
       "      <td>0.9979</td>\n",
       "      <td>0.041</td>\n",
       "      <td>0.811</td>\n",
       "      <td>0.9979</td>\n",
       "    </tr>\n",
       "    <tr>\n",
       "      <th>3</th>\n",
       "      <td>2023-03-04</td>\n",
       "      <td>51</td>\n",
       "      <td>0.9936</td>\n",
       "      <td>0.064</td>\n",
       "      <td>0.817</td>\n",
       "      <td>0.9936</td>\n",
       "    </tr>\n",
       "    <tr>\n",
       "      <th>4</th>\n",
       "      <td>2023-03-03</td>\n",
       "      <td>53</td>\n",
       "      <td>0.9993</td>\n",
       "      <td>0.055</td>\n",
       "      <td>0.767</td>\n",
       "      <td>0.9993</td>\n",
       "    </tr>\n",
       "    <tr>\n",
       "      <th>5</th>\n",
       "      <td>2023-03-02</td>\n",
       "      <td>52</td>\n",
       "      <td>0.9999</td>\n",
       "      <td>0.048</td>\n",
       "      <td>0.727</td>\n",
       "      <td>0.9999</td>\n",
       "    </tr>\n",
       "    <tr>\n",
       "      <th>6</th>\n",
       "      <td>2023-03-01</td>\n",
       "      <td>52</td>\n",
       "      <td>0.9997</td>\n",
       "      <td>0.055</td>\n",
       "      <td>0.729</td>\n",
       "      <td>0.9997</td>\n",
       "    </tr>\n",
       "    <tr>\n",
       "      <th>7</th>\n",
       "      <td>2023-02-28</td>\n",
       "      <td>51</td>\n",
       "      <td>0.9996</td>\n",
       "      <td>0.005</td>\n",
       "      <td>0.741</td>\n",
       "      <td>0.9996</td>\n",
       "    </tr>\n",
       "    <tr>\n",
       "      <th>8</th>\n",
       "      <td>2023-02-27</td>\n",
       "      <td>50</td>\n",
       "      <td>0.9884</td>\n",
       "      <td>0.051</td>\n",
       "      <td>0.828</td>\n",
       "      <td>0.9884</td>\n",
       "    </tr>\n",
       "    <tr>\n",
       "      <th>9</th>\n",
       "      <td>2023-02-26</td>\n",
       "      <td>51</td>\n",
       "      <td>0.888</td>\n",
       "      <td>0.089</td>\n",
       "      <td>0.812</td>\n",
       "      <td>0.888</td>\n",
       "    </tr>\n",
       "  </tbody>\n",
       "</table>\n",
       "</div>"
      ],
      "text/plain": [
       "         Date  Prices    Comp Negative Neutral Positive\n",
       "0  2023-03-07      51  0.9959     0.11   0.755   0.9959\n",
       "1  2023-03-06      51  0.9991    0.079   0.773   0.9991\n",
       "2  2023-03-05      51  0.9979    0.041   0.811   0.9979\n",
       "3  2023-03-04      51  0.9936    0.064   0.817   0.9936\n",
       "4  2023-03-03      53  0.9993    0.055   0.767   0.9993\n",
       "5  2023-03-02      52  0.9999    0.048   0.727   0.9999\n",
       "6  2023-03-01      52  0.9997    0.055   0.729   0.9997\n",
       "7  2023-02-28      51  0.9996    0.005   0.741   0.9996\n",
       "8  2023-02-27      50  0.9884    0.051   0.828   0.9884\n",
       "9  2023-02-26      51   0.888    0.089   0.812    0.888"
      ]
     },
     "execution_count": 39,
     "metadata": {},
     "output_type": "execute_result"
    }
   ],
   "source": [
    "df_"
   ]
  },
  {
   "attachments": {},
   "cell_type": "markdown",
   "metadata": {},
   "source": [
    "#### Bagi dataset menjadi train and test."
   ]
  },
  {
   "cell_type": "code",
   "execution_count": 40,
   "metadata": {
    "ExecuteTime": {
     "end_time": "2021-09-22T09:44:49.274215Z",
     "start_time": "2021-09-22T09:44:49.266237Z"
    },
    "scrolled": true
   },
   "outputs": [],
   "source": [
    "train_start_index = '0'\n",
    "train_end_index = '5'\n",
    "test_start_index = '6'\n",
    "test_end_index = '8'\n",
    "train = df_.loc[train_start_index : train_end_index,:]\n",
    "test = df_.loc[test_start_index:test_end_index,:]"
   ]
  },
  {
   "attachments": {},
   "cell_type": "markdown",
   "metadata": {},
   "source": [
    "#### Buat sebuah 2D array yang menyimpan Negative and Positive sentiment untuk Training dataset."
   ]
  },
  {
   "cell_type": "code",
   "execution_count": 41,
   "metadata": {
    "ExecuteTime": {
     "end_time": "2021-09-22T09:44:50.677601Z",
     "start_time": "2021-09-22T09:44:50.667601Z"
    }
   },
   "outputs": [
    {
     "name": "stderr",
     "output_type": "stream",
     "text": [
      "C:\\Users\\ardik\\AppData\\Local\\Temp\\ipykernel_10680\\3231284935.py:2: FutureWarning: iteritems is deprecated and will be removed in a future version. Use .items instead.\n",
      "  for date, row in train.T.iteritems():\n"
     ]
    }
   ],
   "source": [
    "sentiment_score_list = []\n",
    "for date, row in train.T.iteritems():\n",
    "    sentiment_score = np.asarray([df_.loc[date, 'Negative'],df_.loc[date, 'Positive']])\n",
    "    sentiment_score_list.append(sentiment_score)\n",
    "numpy_df_train = np.asarray(sentiment_score_list)"
   ]
  },
  {
   "cell_type": "code",
   "execution_count": 42,
   "metadata": {
    "ExecuteTime": {
     "end_time": "2021-09-22T09:44:52.251819Z",
     "start_time": "2021-09-22T09:44:52.236853Z"
    }
   },
   "outputs": [
    {
     "name": "stdout",
     "output_type": "stream",
     "text": [
      "[[0.11   0.9959]\n",
      " [0.079  0.9991]\n",
      " [0.041  0.9979]\n",
      " [0.064  0.9936]\n",
      " [0.055  0.9993]\n",
      " [0.048  0.9999]]\n"
     ]
    }
   ],
   "source": [
    "print(numpy_df_train)"
   ]
  },
  {
   "attachments": {},
   "cell_type": "markdown",
   "metadata": {},
   "source": [
    "#### Buat sebuah 2D array yang menyimpan Negative and Positive sentiment untuk Testing dataset."
   ]
  },
  {
   "cell_type": "code",
   "execution_count": 43,
   "metadata": {
    "ExecuteTime": {
     "end_time": "2021-09-22T09:44:53.722231Z",
     "start_time": "2021-09-22T09:44:53.711261Z"
    }
   },
   "outputs": [
    {
     "name": "stderr",
     "output_type": "stream",
     "text": [
      "C:\\Users\\ardik\\AppData\\Local\\Temp\\ipykernel_10680\\1753046139.py:2: FutureWarning: iteritems is deprecated and will be removed in a future version. Use .items instead.\n",
      "  for date, row in test.T.iteritems():\n"
     ]
    }
   ],
   "source": [
    "sentiment_score_list = []\n",
    "for date, row in test.T.iteritems():\n",
    "    sentiment_score = np.asarray([df_.loc[date, 'Negative'],df_.loc[date, 'Positive']])\n",
    "    sentiment_score_list.append(sentiment_score)\n",
    "numpy_df_test = np.asarray(sentiment_score_list)"
   ]
  },
  {
   "cell_type": "code",
   "execution_count": 44,
   "metadata": {
    "ExecuteTime": {
     "end_time": "2021-09-22T09:44:54.096791Z",
     "start_time": "2021-09-22T09:44:54.083825Z"
    }
   },
   "outputs": [
    {
     "name": "stdout",
     "output_type": "stream",
     "text": [
      "[[0.055  0.9997]\n",
      " [0.005  0.9996]\n",
      " [0.051  0.9884]]\n"
     ]
    }
   ],
   "source": [
    "print(numpy_df_test)"
   ]
  },
  {
   "attachments": {},
   "cell_type": "markdown",
   "metadata": {},
   "source": [
    "#### Buat 2 dataframe untuk Training and Testing \"Prices\". dapat membuat 1-D array untuk lainnya"
   ]
  },
  {
   "cell_type": "code",
   "execution_count": 45,
   "metadata": {
    "ExecuteTime": {
     "end_time": "2021-09-22T09:44:55.720364Z",
     "start_time": "2021-09-22T09:44:55.700416Z"
    }
   },
   "outputs": [
    {
     "name": "stdout",
     "output_type": "stream",
     "text": [
      "   Prices\n",
      "0      51\n",
      "1      51\n",
      "2      51\n",
      "3      51\n",
      "4      53\n",
      "5      52\n"
     ]
    }
   ],
   "source": [
    "y_train = pd.DataFrame(train['Prices'])\n",
    "#y_train=[91,91,91,92,91,92,91]\n",
    "y_test = pd.DataFrame(test['Prices'])\n",
    "print(y_train)"
   ]
  },
  {
   "attachments": {},
   "cell_type": "markdown",
   "metadata": {},
   "source": [
    "#### Menyesuaikan sentimen (sebagai variabel independen) dan harga (sebagai variabel dependen)"
   ]
  },
  {
   "cell_type": "code",
   "execution_count": 46,
   "metadata": {
    "ExecuteTime": {
     "end_time": "2021-09-22T09:45:41.425399Z",
     "start_time": "2021-09-22T09:45:41.317688Z"
    },
    "scrolled": true
   },
   "outputs": [
    {
     "name": "stderr",
     "output_type": "stream",
     "text": [
      "C:\\Users\\ardik\\AppData\\Local\\Temp\\ipykernel_10680\\1504975680.py:7: DataConversionWarning: A column-vector y was passed when a 1d array was expected. Please change the shape of y to (n_samples,), for example using ravel().\n",
      "  rf.fit(numpy_df_train, y_train)\n"
     ]
    },
    {
     "data": {
      "text/html": [
       "<style>#sk-container-id-1 {color: black;background-color: white;}#sk-container-id-1 pre{padding: 0;}#sk-container-id-1 div.sk-toggleable {background-color: white;}#sk-container-id-1 label.sk-toggleable__label {cursor: pointer;display: block;width: 100%;margin-bottom: 0;padding: 0.3em;box-sizing: border-box;text-align: center;}#sk-container-id-1 label.sk-toggleable__label-arrow:before {content: \"▸\";float: left;margin-right: 0.25em;color: #696969;}#sk-container-id-1 label.sk-toggleable__label-arrow:hover:before {color: black;}#sk-container-id-1 div.sk-estimator:hover label.sk-toggleable__label-arrow:before {color: black;}#sk-container-id-1 div.sk-toggleable__content {max-height: 0;max-width: 0;overflow: hidden;text-align: left;background-color: #f0f8ff;}#sk-container-id-1 div.sk-toggleable__content pre {margin: 0.2em;color: black;border-radius: 0.25em;background-color: #f0f8ff;}#sk-container-id-1 input.sk-toggleable__control:checked~div.sk-toggleable__content {max-height: 200px;max-width: 100%;overflow: auto;}#sk-container-id-1 input.sk-toggleable__control:checked~label.sk-toggleable__label-arrow:before {content: \"▾\";}#sk-container-id-1 div.sk-estimator input.sk-toggleable__control:checked~label.sk-toggleable__label {background-color: #d4ebff;}#sk-container-id-1 div.sk-label input.sk-toggleable__control:checked~label.sk-toggleable__label {background-color: #d4ebff;}#sk-container-id-1 input.sk-hidden--visually {border: 0;clip: rect(1px 1px 1px 1px);clip: rect(1px, 1px, 1px, 1px);height: 1px;margin: -1px;overflow: hidden;padding: 0;position: absolute;width: 1px;}#sk-container-id-1 div.sk-estimator {font-family: monospace;background-color: #f0f8ff;border: 1px dotted black;border-radius: 0.25em;box-sizing: border-box;margin-bottom: 0.5em;}#sk-container-id-1 div.sk-estimator:hover {background-color: #d4ebff;}#sk-container-id-1 div.sk-parallel-item::after {content: \"\";width: 100%;border-bottom: 1px solid gray;flex-grow: 1;}#sk-container-id-1 div.sk-label:hover label.sk-toggleable__label {background-color: #d4ebff;}#sk-container-id-1 div.sk-serial::before {content: \"\";position: absolute;border-left: 1px solid gray;box-sizing: border-box;top: 0;bottom: 0;left: 50%;z-index: 0;}#sk-container-id-1 div.sk-serial {display: flex;flex-direction: column;align-items: center;background-color: white;padding-right: 0.2em;padding-left: 0.2em;position: relative;}#sk-container-id-1 div.sk-item {position: relative;z-index: 1;}#sk-container-id-1 div.sk-parallel {display: flex;align-items: stretch;justify-content: center;background-color: white;position: relative;}#sk-container-id-1 div.sk-item::before, #sk-container-id-1 div.sk-parallel-item::before {content: \"\";position: absolute;border-left: 1px solid gray;box-sizing: border-box;top: 0;bottom: 0;left: 50%;z-index: -1;}#sk-container-id-1 div.sk-parallel-item {display: flex;flex-direction: column;z-index: 1;position: relative;background-color: white;}#sk-container-id-1 div.sk-parallel-item:first-child::after {align-self: flex-end;width: 50%;}#sk-container-id-1 div.sk-parallel-item:last-child::after {align-self: flex-start;width: 50%;}#sk-container-id-1 div.sk-parallel-item:only-child::after {width: 0;}#sk-container-id-1 div.sk-dashed-wrapped {border: 1px dashed gray;margin: 0 0.4em 0.5em 0.4em;box-sizing: border-box;padding-bottom: 0.4em;background-color: white;}#sk-container-id-1 div.sk-label label {font-family: monospace;font-weight: bold;display: inline-block;line-height: 1.2em;}#sk-container-id-1 div.sk-label-container {text-align: center;}#sk-container-id-1 div.sk-container {/* jupyter's `normalize.less` sets `[hidden] { display: none; }` but bootstrap.min.css set `[hidden] { display: none !important; }` so we also need the `!important` here to be able to override the default hidden behavior on the sphinx rendered scikit-learn.org. See: https://github.com/scikit-learn/scikit-learn/issues/21755 */display: inline-block !important;position: relative;}#sk-container-id-1 div.sk-text-repr-fallback {display: none;}</style><div id=\"sk-container-id-1\" class=\"sk-top-container\"><div class=\"sk-text-repr-fallback\"><pre>RandomForestRegressor()</pre><b>In a Jupyter environment, please rerun this cell to show the HTML representation or trust the notebook. <br />On GitHub, the HTML representation is unable to render, please try loading this page with nbviewer.org.</b></div><div class=\"sk-container\" hidden><div class=\"sk-item\"><div class=\"sk-estimator sk-toggleable\"><input class=\"sk-toggleable__control sk-hidden--visually\" id=\"sk-estimator-id-1\" type=\"checkbox\" checked><label for=\"sk-estimator-id-1\" class=\"sk-toggleable__label sk-toggleable__label-arrow\">RandomForestRegressor</label><div class=\"sk-toggleable__content\"><pre>RandomForestRegressor()</pre></div></div></div></div></div>"
      ],
      "text/plain": [
       "RandomForestRegressor()"
      ]
     },
     "execution_count": 46,
     "metadata": {},
     "output_type": "execute_result"
    }
   ],
   "source": [
    "# from treeinterpreter import treeinterpreter as ti\n",
    "from sklearn.tree import DecisionTreeRegressor\n",
    "from sklearn.ensemble import RandomForestRegressor\n",
    "from sklearn.metrics import classification_report,confusion_matrix\n",
    "\n",
    "rf = RandomForestRegressor()\n",
    "rf.fit(numpy_df_train, y_train)"
   ]
  },
  {
   "attachments": {},
   "cell_type": "markdown",
   "metadata": {},
   "source": [
    "#### Membuat Prediksi"
   ]
  },
  {
   "cell_type": "code",
   "execution_count": 47,
   "metadata": {
    "ExecuteTime": {
     "end_time": "2021-09-22T09:46:05.824853Z",
     "start_time": "2021-09-22T09:46:05.802877Z"
    }
   },
   "outputs": [],
   "source": [
    "prediction = rf.predict(numpy_df_test)"
   ]
  },
  {
   "cell_type": "code",
   "execution_count": 48,
   "metadata": {
    "ExecuteTime": {
     "end_time": "2021-09-22T09:46:06.416726Z",
     "start_time": "2021-09-22T09:46:06.411739Z"
    }
   },
   "outputs": [
    {
     "name": "stdout",
     "output_type": "stream",
     "text": [
      "[52.32 52.39 51.32]\n"
     ]
    }
   ],
   "source": [
    "print(prediction)"
   ]
  },
  {
   "cell_type": "markdown",
   "metadata": {},
   "source": [
    "#### Importing matplotlib library for plotting graph"
   ]
  },
  {
   "cell_type": "code",
   "execution_count": 49,
   "metadata": {
    "ExecuteTime": {
     "end_time": "2021-09-22T09:46:09.288378Z",
     "start_time": "2021-09-22T09:46:09.271441Z"
    }
   },
   "outputs": [],
   "source": [
    "import matplotlib.pyplot as plt"
   ]
  },
  {
   "attachments": {},
   "cell_type": "markdown",
   "metadata": {},
   "source": [
    "#### Definisikan posisi index untuk test data. Membuat kerangka data untuk nilai prediksi."
   ]
  },
  {
   "cell_type": "code",
   "execution_count": 50,
   "metadata": {
    "ExecuteTime": {
     "end_time": "2021-09-22T09:46:45.351277Z",
     "start_time": "2021-09-22T09:46:45.345293Z"
    }
   },
   "outputs": [],
   "source": [
    "idx=np.arange(int(test_start_index),int(test_end_index)+1)\n",
    "predictions_df_ = pd.DataFrame(data=prediction[0:], index = idx, columns=['Prices'])"
   ]
  },
  {
   "cell_type": "code",
   "execution_count": 51,
   "metadata": {
    "ExecuteTime": {
     "end_time": "2021-09-22T09:46:46.414957Z",
     "start_time": "2021-09-22T09:46:46.405980Z"
    }
   },
   "outputs": [
    {
     "data": {
      "text/html": [
       "<div>\n",
       "<style scoped>\n",
       "    .dataframe tbody tr th:only-of-type {\n",
       "        vertical-align: middle;\n",
       "    }\n",
       "\n",
       "    .dataframe tbody tr th {\n",
       "        vertical-align: top;\n",
       "    }\n",
       "\n",
       "    .dataframe thead th {\n",
       "        text-align: right;\n",
       "    }\n",
       "</style>\n",
       "<table border=\"1\" class=\"dataframe\">\n",
       "  <thead>\n",
       "    <tr style=\"text-align: right;\">\n",
       "      <th></th>\n",
       "      <th>Prices</th>\n",
       "    </tr>\n",
       "  </thead>\n",
       "  <tbody>\n",
       "    <tr>\n",
       "      <th>6</th>\n",
       "      <td>52.32</td>\n",
       "    </tr>\n",
       "    <tr>\n",
       "      <th>7</th>\n",
       "      <td>52.39</td>\n",
       "    </tr>\n",
       "    <tr>\n",
       "      <th>8</th>\n",
       "      <td>51.32</td>\n",
       "    </tr>\n",
       "  </tbody>\n",
       "</table>\n",
       "</div>"
      ],
      "text/plain": [
       "   Prices\n",
       "6   52.32\n",
       "7   52.39\n",
       "8   51.32"
      ]
     },
     "execution_count": 51,
     "metadata": {},
     "output_type": "execute_result"
    }
   ],
   "source": [
    "predictions_df_"
   ]
  },
  {
   "cell_type": "markdown",
   "metadata": {},
   "source": [
    "#### Plotting the graph for the Predicted_price VS Actual Price"
   ]
  },
  {
   "cell_type": "code",
   "execution_count": 52,
   "metadata": {
    "ExecuteTime": {
     "end_time": "2021-09-22T09:46:51.727734Z",
     "start_time": "2021-09-22T09:46:51.485198Z"
    }
   },
   "outputs": [
    {
     "data": {
      "image/png": "[encoded data removed]",
      "text/plain": [
       "<Figure size 640x480 with 1 Axes>"
      ]
     },
     "metadata": {},
     "output_type": "display_data"
    }
   ],
   "source": [
    "ax = predictions_df_.rename(columns={\"Prices\": \"predicted_price\"}).plot(title='Random Forest predicted prices')#predicted value\n",
    "ax.set_xlabel(\"Indexes\")\n",
    "ax.set_ylabel(\"Stock Prices\")\n",
    "fig = y_test.rename(columns={\"Prices\": \"actual_price\"}).plot(ax = ax).get_figure()#actual value\n",
    "fig.savefig(\"random forest.png\")"
   ]
  },
  {
   "cell_type": "code",
   "execution_count": 62,
   "metadata": {
    "ExecuteTime": {
     "end_time": "2021-09-22T09:47:06.527704Z",
     "start_time": "2021-09-22T09:47:06.512721Z"
    }
   },
   "outputs": [
    {
     "data": {
      "text/html": [
       "<style>#sk-container-id-3 {color: black;background-color: white;}#sk-container-id-3 pre{padding: 0;}#sk-container-id-3 div.sk-toggleable {background-color: white;}#sk-container-id-3 label.sk-toggleable__label {cursor: pointer;display: block;width: 100%;margin-bottom: 0;padding: 0.3em;box-sizing: border-box;text-align: center;}#sk-container-id-3 label.sk-toggleable__label-arrow:before {content: \"▸\";float: left;margin-right: 0.25em;color: #696969;}#sk-container-id-3 label.sk-toggleable__label-arrow:hover:before {color: black;}#sk-container-id-3 div.sk-estimator:hover label.sk-toggleable__label-arrow:before {color: black;}#sk-container-id-3 div.sk-toggleable__content {max-height: 0;max-width: 0;overflow: hidden;text-align: left;background-color: #f0f8ff;}#sk-container-id-3 div.sk-toggleable__content pre {margin: 0.2em;color: black;border-radius: 0.25em;background-color: #f0f8ff;}#sk-container-id-3 input.sk-toggleable__control:checked~div.sk-toggleable__content {max-height: 200px;max-width: 100%;overflow: auto;}#sk-container-id-3 input.sk-toggleable__control:checked~label.sk-toggleable__label-arrow:before {content: \"▾\";}#sk-container-id-3 div.sk-estimator input.sk-toggleable__control:checked~label.sk-toggleable__label {background-color: #d4ebff;}#sk-container-id-3 div.sk-label input.sk-toggleable__control:checked~label.sk-toggleable__label {background-color: #d4ebff;}#sk-container-id-3 input.sk-hidden--visually {border: 0;clip: rect(1px 1px 1px 1px);clip: rect(1px, 1px, 1px, 1px);height: 1px;margin: -1px;overflow: hidden;padding: 0;position: absolute;width: 1px;}#sk-container-id-3 div.sk-estimator {font-family: monospace;background-color: #f0f8ff;border: 1px dotted black;border-radius: 0.25em;box-sizing: border-box;margin-bottom: 0.5em;}#sk-container-id-3 div.sk-estimator:hover {background-color: #d4ebff;}#sk-container-id-3 div.sk-parallel-item::after {content: \"\";width: 100%;border-bottom: 1px solid gray;flex-grow: 1;}#sk-container-id-3 div.sk-label:hover label.sk-toggleable__label {background-color: #d4ebff;}#sk-container-id-3 div.sk-serial::before {content: \"\";position: absolute;border-left: 1px solid gray;box-sizing: border-box;top: 0;bottom: 0;left: 50%;z-index: 0;}#sk-container-id-3 div.sk-serial {display: flex;flex-direction: column;align-items: center;background-color: white;padding-right: 0.2em;padding-left: 0.2em;position: relative;}#sk-container-id-3 div.sk-item {position: relative;z-index: 1;}#sk-container-id-3 div.sk-parallel {display: flex;align-items: stretch;justify-content: center;background-color: white;position: relative;}#sk-container-id-3 div.sk-item::before, #sk-container-id-3 div.sk-parallel-item::before {content: \"\";position: absolute;border-left: 1px solid gray;box-sizing: border-box;top: 0;bottom: 0;left: 50%;z-index: -1;}#sk-container-id-3 div.sk-parallel-item {display: flex;flex-direction: column;z-index: 1;position: relative;background-color: white;}#sk-container-id-3 div.sk-parallel-item:first-child::after {align-self: flex-end;width: 50%;}#sk-container-id-3 div.sk-parallel-item:last-child::after {align-self: flex-start;width: 50%;}#sk-container-id-3 div.sk-parallel-item:only-child::after {width: 0;}#sk-container-id-3 div.sk-dashed-wrapped {border: 1px dashed gray;margin: 0 0.4em 0.5em 0.4em;box-sizing: border-box;padding-bottom: 0.4em;background-color: white;}#sk-container-id-3 div.sk-label label {font-family: monospace;font-weight: bold;display: inline-block;line-height: 1.2em;}#sk-container-id-3 div.sk-label-container {text-align: center;}#sk-container-id-3 div.sk-container {/* jupyter's `normalize.less` sets `[hidden] { display: none; }` but bootstrap.min.css set `[hidden] { display: none !important; }` so we also need the `!important` here to be able to override the default hidden behavior on the sphinx rendered scikit-learn.org. See: https://github.com/scikit-learn/scikit-learn/issues/21755 */display: inline-block !important;position: relative;}#sk-container-id-3 div.sk-text-repr-fallback {display: none;}</style><div id=\"sk-container-id-3\" class=\"sk-top-container\"><div class=\"sk-text-repr-fallback\"><pre>LinearRegression()</pre><b>In a Jupyter environment, please rerun this cell to show the HTML representation or trust the notebook. <br />On GitHub, the HTML representation is unable to render, please try loading this page with nbviewer.org.</b></div><div class=\"sk-container\" hidden><div class=\"sk-item\"><div class=\"sk-estimator sk-toggleable\"><input class=\"sk-toggleable__control sk-hidden--visually\" id=\"sk-estimator-id-3\" type=\"checkbox\" checked><label for=\"sk-estimator-id-3\" class=\"sk-toggleable__label sk-toggleable__label-arrow\">LinearRegression</label><div class=\"sk-toggleable__content\"><pre>LinearRegression()</pre></div></div></div></div></div>"
      ],
      "text/plain": [
       "LinearRegression()"
      ]
     },
     "execution_count": 62,
     "metadata": {},
     "output_type": "execute_result"
    }
   ],
   "source": [
    "# from treeinterpreter import treeinterpreter as ti\n",
    "# from sklearn.tree import DecisionTreeRegressor\n",
    "from sklearn.linear_model import LinearRegression\n",
    "from sklearn.metrics import classification_report,confusion_matrix\n",
    "\n",
    "reg = LinearRegression()\n",
    "reg.fit(numpy_df_train, y_train)"
   ]
  },
  {
   "cell_type": "code",
   "execution_count": 63,
   "metadata": {
    "ExecuteTime": {
     "end_time": "2021-09-22T09:47:06.903403Z",
     "start_time": "2021-09-22T09:47:06.899386Z"
    }
   },
   "outputs": [
    {
     "data": {
      "text/plain": [
       "array([[49.76331769],\n",
       "       [48.52432257],\n",
       "       [18.54322743]])"
      ]
     },
     "execution_count": 63,
     "metadata": {},
     "output_type": "execute_result"
    }
   ],
   "source": [
    "reg.predict(numpy_df_test)"
   ]
  },
  {
   "attachments": {},
   "cell_type": "markdown",
   "metadata": {},
   "source": [
    "# Tugas Individu\n",
    "\n",
    "1. Buatlah prediksi saham dalam 1 tahun terkahir pada tahun 2022\n",
    "2. Lakukan twitter scrapping dengan periode 1 tahun juga di tahun 2022.\n",
    "3. Lakukan prediksi dengan Linear Regression dan Random Forest (Menerapkan Data Mining dan pembelajaran mesin)\n",
    "4. Berikan Analisis model prediksi saham yang telah anda bangun. Berapa banyak sentiment yang dihasilkan?"
   ]
  },
  {
   "attachments": {},
   "cell_type": "markdown",
   "metadata": {},
   "source": [
    "# Tugas Kelompok"
   ]
  },
  {
   "attachments": {},
   "cell_type": "markdown",
   "metadata": {},
   "source": [
    "Cari lah data saham di yahoo finance lalu unduh dalam periode 15 tahun. dari 2008 hingga 2023. lakukan web scrapping di twitter dengan mengambil data dari 2008 hingga 2023.\n",
    "Setiap kelompok harus berbeda data sahamnya. Lakukan Analisis dengan menggunakan model Linear regression dan random forest. Buatlah pembahasan setiap kode dan buat lah analisis hasil dan kesimpulan."
   ]
  }
 ],
 "metadata": {
  "kernelspec": {
   "display_name": "sainsdata",
   "language": "python",
   "name": "python3"
  },
  "language_info": {
   "codemirror_mode": {
    "name": "ipython",
    "version": 3
   },
   "file_extension": ".py",
   "mimetype": "text/x-python",
   "name": "python",
   "nbconvert_exporter": "python",
   "pygments_lexer": "ipython3",
   "version": "3.11.2"
  },
  "varInspector": {
   "cols": {
    "lenName": 16,
    "lenType": 16,
    "lenVar": 40
   },
   "kernels_config": {
    "python": {
     "delete_cmd_postfix": "",
     "delete_cmd_prefix": "del ",
     "library": "var_list.py",
     "varRefreshCmd": "print(var_dic_list())"
    },
    "r": {
     "delete_cmd_postfix": ") ",
     "delete_cmd_prefix": "rm(",
     "library": "var_list.r",
     "varRefreshCmd": "cat(var_dic_list()) "
    }
   },
   "types_to_exclude": [
    "module",
    "function",
    "builtin_function_or_method",
    "instance",
    "_Feature"
   ],
   "window_display": true
  },
  "vscode": {
   "interpreter": {
    "hash": "6d5179f2113c0d4ea3f3ce8a9ae396cf40c592e1dffe8df06b755f30a8114e45"
   }
  }
 },
 "nbformat": 4,
 "nbformat_minor": 2
}
